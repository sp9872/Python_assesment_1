{
 "cells": [
  {
   "cell_type": "markdown",
   "metadata": {},
   "source": [
    "# For Loop (Simple) - Questions"
   ]
  },
  {
   "cell_type": "code",
   "execution_count": null,
   "metadata": {},
   "outputs": [],
   "source": [
    "''' 1. Write a Python program to print expected output from the data given below.   \n",
    "    Data:\n",
    "         country = [\"India\", \"Canada\", \"Sweden\"]    \n",
    "    Expected Output:\n",
    "    India\n",
    "    Canada\n",
    "    Sweden '''  \n",
    "\n"
   ]
  },
  {
   "cell_type": "code",
   "execution_count": 1,
   "metadata": {},
   "outputs": [
    {
     "name": "stdout",
     "output_type": "stream",
     "text": [
      "India\n",
      "Canada\n",
      "Sweden\n"
     ]
    }
   ],
   "source": [
    "country = [\"India\", \"Canada\", \"Sweden\"]\n",
    "for i in country:\n",
    "    print(i)"
   ]
  },
  {
   "cell_type": "code",
   "execution_count": null,
   "metadata": {},
   "outputs": [],
   "source": [
    "''' 2. Write a Python program to print expected output from the data given below. \n",
    "    Data:\n",
    "         string = \"banana\"\n",
    "    Expected Output: \n",
    "    b\n",
    "    a\n",
    "    n\n",
    "    a\n",
    "    n\n",
    "    a '''\n"
   ]
  },
  {
   "cell_type": "code",
   "execution_count": 2,
   "metadata": {},
   "outputs": [
    {
     "name": "stdout",
     "output_type": "stream",
     "text": [
      "b\n",
      "a\n",
      "n\n",
      "a\n",
      "n\n",
      "a\n"
     ]
    }
   ],
   "source": [
    "string = \"banana\"\n",
    "for i in string:\n",
    "    print(i)"
   ]
  },
  {
   "cell_type": "code",
   "execution_count": null,
   "metadata": {},
   "outputs": [],
   "source": [
    "''' 3. Write a Python program to print expected output using break statement from the data given below.    \n",
    "    Data:\n",
    "        country = [\"India\", \"Canada\", \"Sweden\"]      \n",
    "    Expected Output: \n",
    "    India\n",
    "    Canada '''\n"
   ]
  },
  {
   "cell_type": "code",
   "execution_count": 3,
   "metadata": {},
   "outputs": [
    {
     "name": "stdout",
     "output_type": "stream",
     "text": [
      "India\n",
      "Canada\n"
     ]
    }
   ],
   "source": [
    "country = [\"India\", \"Canada\", \"Sweden\"]\n",
    "for i in country:\n",
    "    if i == \"Sweden\":\n",
    "        break\n",
    "    else:\n",
    "        print(i)"
   ]
  },
  {
   "cell_type": "code",
   "execution_count": null,
   "metadata": {},
   "outputs": [],
   "source": [
    "''' 4. Write a Python program to print expected output using continue statement from the data given below.\n",
    "    Data:\n",
    "        country = [\"India\", \"Canada\", \"Sweden\"]\n",
    "    Expected Output: \n",
    "    India\n",
    "    Sweden '''\n",
    "    "
   ]
  },
  {
   "cell_type": "code",
   "execution_count": 4,
   "metadata": {},
   "outputs": [
    {
     "name": "stdout",
     "output_type": "stream",
     "text": [
      "India\n",
      "Sweden\n"
     ]
    }
   ],
   "source": [
    "country = [\"India\", \"Canada\", \"Sweden\"]\n",
    "for i in country:\n",
    "    if i == \"Canada\":\n",
    "        continue\n",
    "    else:\n",
    "        print(i)"
   ]
  },
  {
   "cell_type": "code",
   "execution_count": null,
   "metadata": {},
   "outputs": [],
   "source": [
    "#5. Write a Python program to having an empty for loop like this, would raise an error without the pass statement.\n"
   ]
  },
  {
   "cell_type": "code",
   "execution_count": 5,
   "metadata": {},
   "outputs": [
    {
     "ename": "SyntaxError",
     "evalue": "incomplete input (1201520659.py, line 2)",
     "output_type": "error",
     "traceback": [
      "\u001b[1;36m  Cell \u001b[1;32mIn[5], line 2\u001b[1;36m\u001b[0m\n\u001b[1;33m    \u001b[0m\n\u001b[1;37m    ^\u001b[0m\n\u001b[1;31mSyntaxError\u001b[0m\u001b[1;31m:\u001b[0m incomplete input\n"
     ]
    }
   ],
   "source": [
    "for i in range(5):\n",
    "    "
   ]
  },
  {
   "cell_type": "code",
   "execution_count": null,
   "metadata": {},
   "outputs": [],
   "source": [
    "''' 6. Write a Python program to print expected output using range in for loop.\n",
    "    Expected Output:\n",
    "    0\n",
    "    1\n",
    "    2\n",
    "    3\n",
    "    4\n",
    "    5 '''\n"
   ]
  },
  {
   "cell_type": "code",
   "execution_count": 7,
   "metadata": {},
   "outputs": [
    {
     "name": "stdout",
     "output_type": "stream",
     "text": [
      "0\n",
      "1\n",
      "2\n",
      "3\n",
      "4\n",
      "5\n"
     ]
    }
   ],
   "source": [
    "for i in range(6):\n",
    "    print(i)"
   ]
  },
  {
   "cell_type": "code",
   "execution_count": null,
   "metadata": {},
   "outputs": [],
   "source": [
    "''' 7. Write a Python program to print expected output by passing range parameters as (2, 6).\n",
    "    Expected Output:\n",
    "    2\n",
    "    3\n",
    "    4\n",
    "    5 '''\n"
   ]
  },
  {
   "cell_type": "code",
   "execution_count": 8,
   "metadata": {},
   "outputs": [
    {
     "name": "stdout",
     "output_type": "stream",
     "text": [
      "2\n",
      "3\n",
      "4\n",
      "5\n"
     ]
    }
   ],
   "source": [
    "for i in range(2,6):\n",
    "    print(i)"
   ]
  },
  {
   "cell_type": "code",
   "execution_count": null,
   "metadata": {},
   "outputs": [],
   "source": [
    "'''8. Write a Python program to print expected output, range between 2 to 30 and increment the sequence by 3.\n",
    "    Expected Output:\n",
    "    2\n",
    "    5\n",
    "    8\n",
    "    11\n",
    "    14\n",
    "    17\n",
    "    20\n",
    "    23\n",
    "    26\n",
    "    29 '''\n"
   ]
  },
  {
   "cell_type": "code",
   "execution_count": 9,
   "metadata": {},
   "outputs": [
    {
     "name": "stdout",
     "output_type": "stream",
     "text": [
      "2\n",
      "5\n",
      "8\n",
      "11\n",
      "14\n",
      "17\n",
      "20\n",
      "23\n",
      "26\n",
      "29\n"
     ]
    }
   ],
   "source": [
    "for i in range(2,30,3):\n",
    "    print(i)"
   ]
  },
  {
   "cell_type": "code",
   "execution_count": null,
   "metadata": {},
   "outputs": [],
   "source": [
    "''' 9. Write a Python program to print all numbers from 0 to 5, and print a message when the loop has ended.\n",
    "    Expected Output:\n",
    "    0\n",
    "    1\n",
    "    2\n",
    "    3\n",
    "    4\n",
    "    5\n",
    "    Finally finished! '''\n",
    "\n"
   ]
  },
  {
   "cell_type": "code",
   "execution_count": 10,
   "metadata": {},
   "outputs": [
    {
     "name": "stdout",
     "output_type": "stream",
     "text": [
      "0\n",
      "1\n",
      "2\n",
      "3\n",
      "4\n",
      "5\n",
      "Finally finished! \n"
     ]
    }
   ],
   "source": [
    "for i in range(0,6):\n",
    "    print(i)\n",
    "print('Finally finished! ')"
   ]
  },
  {
   "cell_type": "code",
   "execution_count": null,
   "metadata": {},
   "outputs": [],
   "source": [
    "''' 10. Write a Python program to print each adjective for every fruits using nested for loop from the data given below.\n",
    "    Data:\n",
    "        adjective = [\"red\", \"big\", \"tasty\"]\n",
    "        fruits = [\"apple\", \"banana\", \"cherry\"]\n",
    "    Expected Output:\n",
    "        red apple\n",
    "        red banana\n",
    "        red cherry\n",
    "        big apple\n",
    "        big banana\n",
    "        big cherry\n",
    "        tasty apple\n",
    "        tasty banana\n",
    "        tasty cherry '''\n"
   ]
  },
  {
   "cell_type": "code",
   "execution_count": 11,
   "metadata": {},
   "outputs": [
    {
     "name": "stdout",
     "output_type": "stream",
     "text": [
      "red apple\n",
      "red banana\n",
      "red cherry\n",
      "big apple\n",
      "big banana\n",
      "big cherry\n",
      "tasty apple\n",
      "tasty banana\n",
      "tasty cherry\n"
     ]
    }
   ],
   "source": [
    "adjective = [\"red\", \"big\", \"tasty\"]\n",
    "fruits = [\"apple\", \"banana\", \"cherry\"]\n",
    "for i in adjective:\n",
    "    for j in fruits:\n",
    "        print(i,j)"
   ]
  },
  {
   "cell_type": "code",
   "execution_count": null,
   "metadata": {},
   "outputs": [],
   "source": [
    "''' 11. Write a Python program to convert list of tuples into dictionary using setdefault() method.\n",
    "    Data:\n",
    "        l = [(\"x\", 1), (\"x\", 2), (\"x\", 3), (\"y\", 1), (\"y\", 2), (\"z\", 1)]\n",
    "    Expected Output:\n",
    "        {'x': [1, 2, 3], 'y': [1, 2], 'z': [1]} '''\n",
    "\n"
   ]
  },
  {
   "cell_type": "code",
   "execution_count": 25,
   "metadata": {},
   "outputs": [
    {
     "name": "stdout",
     "output_type": "stream",
     "text": [
      "{'x': [1, 2, 3], 'y': [1, 2], 'z': [1]}\n"
     ]
    }
   ],
   "source": [
    "l = [(\"x\", 1), (\"x\", 2), (\"x\", 3), (\"y\", 1), (\"y\", 2), (\"z\", 1)]\n",
    "res = {}\n",
    "for k,v in l:\n",
    "    res.setdefault(k,[]).append(v) # setdefault() returns the value for key if key is in the dictionary. If not, it inserts key with a value of [] (an empty list).\n",
    "print(res)"
   ]
  },
  {
   "cell_type": "code",
   "execution_count": null,
   "metadata": {},
   "outputs": [],
   "source": [
    "''' 12. Write a Python program to print the count of no. of elements in a list until an element in a list is a tuple using isinstance() method.\n",
    "    Data:\n",
    "        x = [10,20,30,(10,20),40]\n",
    "    Expected Output: 3 '''\n",
    "\n"
   ]
  },
  {
   "cell_type": "code",
   "execution_count": 23,
   "metadata": {},
   "outputs": [
    {
     "name": "stdout",
     "output_type": "stream",
     "text": [
      "3\n"
     ]
    }
   ],
   "source": [
    "x = [10,20,30,(10,20),40]\n",
    "count = 0\n",
    "for i in x:\n",
    "    if isinstance(i,tuple): # isinstance() function in Python is used to check if an object is an instance of a specified class or a tuple of classes. It returns True if the object is an instance (or subclass instance) of the given class; otherwise, it returns False.\n",
    "        break\n",
    "    count += 1\n",
    "print(count)"
   ]
  },
  {
   "cell_type": "code",
   "execution_count": null,
   "metadata": {},
   "outputs": [],
   "source": [
    "''' 13. Write a Python program to access the index of elements in a list. \n",
    "    Data:\n",
    "        x = [5, 15, 35, 8, 98]\n",
    "    Expected Output:\n",
    "        0 5\n",
    "        1 15\n",
    "        2 35\n",
    "        3 8\n",
    "        4 98 '''\n",
    "        "
   ]
  },
  {
   "cell_type": "code",
   "execution_count": 12,
   "metadata": {},
   "outputs": [
    {
     "name": "stdout",
     "output_type": "stream",
     "text": [
      "0 5\n",
      "1 15\n",
      "2 35\n",
      "3 8\n",
      "4 98\n"
     ]
    }
   ],
   "source": [
    "x = [5, 15, 35, 8, 98]\n",
    "for i,j in enumerate(x):\n",
    "    print (i,j)"
   ]
  },
  {
   "cell_type": "code",
   "execution_count": null,
   "metadata": {},
   "outputs": [],
   "source": [
    "''' 14. Write a Python program to create multiple lists.\n",
    "    Expected output:\n",
    "        {'1': [], '2': [], '3': [], '4': [], '5': [], '6': [], '7': [], '8': [], '9': [], '10': []} '''\n",
    "\n"
   ]
  },
  {
   "cell_type": "code",
   "execution_count": 28,
   "metadata": {},
   "outputs": [
    {
     "name": "stdout",
     "output_type": "stream",
     "text": [
      "{'1': [], '2': [], '3': [], '4': [], '5': [], '6': [], '7': [], '8': [], '9': [], '10': []}\n"
     ]
    }
   ],
   "source": [
    "dic_comp = {str(i):[] for i in range(1,11)}\n",
    "print(dic_comp)"
   ]
  },
  {
   "cell_type": "code",
   "execution_count": null,
   "metadata": {},
   "outputs": [],
   "source": [
    "''' 15. Write a Python program to create a list of empty dictionaries.\n",
    "    Data:\n",
    "        n = 5\n",
    "    Expected Output:\n",
    "        [{}, {}, {}, {}, {}] '''\n",
    "        \n"
   ]
  },
  {
   "cell_type": "code",
   "execution_count": 40,
   "metadata": {},
   "outputs": [
    {
     "name": "stdout",
     "output_type": "stream",
     "text": [
      "['{}', '{}', '{}', '{}', '{}', '{}']\n"
     ]
    }
   ],
   "source": [
    "l = []\n",
    "for i in range(6):\n",
    "    l.append('{}')\n",
    "print(l)"
   ]
  },
  {
   "cell_type": "code",
   "execution_count": null,
   "metadata": {},
   "outputs": [],
   "source": [
    "''' 16. Write a Python program to iterate over two lists simultaneously.\n",
    "    Data:\n",
    "        x = [1, 2, 3]\n",
    "        name = ['boss', 'sai', 'bala']\n",
    "    Expected Output:\n",
    "        1 boss\n",
    "        2 sai\n",
    "        3 bala '''\n",
    "        \n"
   ]
  },
  {
   "cell_type": "code",
   "execution_count": 7,
   "metadata": {},
   "outputs": [
    {
     "name": "stdout",
     "output_type": "stream",
     "text": [
      "1 boss\n",
      "2 sai\n",
      "3 bala\n"
     ]
    }
   ],
   "source": [
    "x = [1,2,3]\n",
    "name = ['boss','sai','bala']\n",
    "for i,j in zip(x,name):\n",
    "    print(i,j)"
   ]
  },
  {
   "cell_type": "code",
   "execution_count": null,
   "metadata": {},
   "outputs": [],
   "source": [
    "''' 17. Write a Python program print all elements of the list using for loop and range().\n",
    "    Data:\n",
    "        name = ['boss', 'sai', 'bala']\n",
    "    Expected Output:\n",
    "        boss\n",
    "        sai\n",
    "        bala '''\n",
    "\n"
   ]
  },
  {
   "cell_type": "code",
   "execution_count": 12,
   "metadata": {},
   "outputs": [
    {
     "name": "stdout",
     "output_type": "stream",
     "text": [
      "boss\n",
      "sai\n",
      "bala\n"
     ]
    }
   ],
   "source": [
    "name = ['boss','sai','bala']\n",
    "for i in range(len(name)):\n",
    "    print(name[i])"
   ]
  },
  {
   "cell_type": "code",
   "execution_count": 18,
   "metadata": {},
   "outputs": [
    {
     "name": "stdout",
     "output_type": "stream",
     "text": [
      "01234"
     ]
    }
   ],
   "source": [
    "# 18. Write a Python program to print without newline or space.\n",
    "\n",
    "for i in range(5):\n",
    "    print(i, end = \"\")"
   ]
  },
  {
   "cell_type": "code",
   "execution_count": null,
   "metadata": {},
   "outputs": [],
   "source": [
    "''' 19. Write a Python program to print expected output using enumerate() from the data given below.\n",
    "    Data:\n",
    "        x = [\"suresh\", \"boss\", \"siva\", \"bala\", \"sai\", \"balu\", \"karthi\"] \n",
    "    Expected Output:\n",
    "        President 1: suresh\n",
    "        President 2: boss\n",
    "        President 3: siva\n",
    "        President 4: bala\n",
    "        President 5: sai\n",
    "        President 6: balu\n",
    "        President 7: karthi '''\n",
    "   "
   ]
  },
  {
   "cell_type": "code",
   "execution_count": 25,
   "metadata": {},
   "outputs": [
    {
     "name": "stdout",
     "output_type": "stream",
     "text": [
      "President 1: suresh\n",
      "President 2: boss\n",
      "President 3: siva\n",
      "President 4: bala\n",
      "President 5: sai\n",
      "President 6: balu\n",
      "President 7: karthi\n"
     ]
    }
   ],
   "source": [
    "x = [\"suresh\", \"boss\", \"siva\", \"bala\", \"sai\", \"balu\", \"karthi\"]\n",
    "for i,j in enumerate(x,start=1):\n",
    "    print(f\"President {i}: {j}\")"
   ]
  },
  {
   "cell_type": "code",
   "execution_count": null,
   "metadata": {},
   "outputs": [],
   "source": [
    "''' 20. Write a Python program to print expected output using enumerate() from the data given below.\n",
    "    Data:\n",
    "        name = [\"suresh\", \"boss\", \"siva\", \"bala\"]\n",
    "        ratios = [0.2, 0.3, 0.1, 0.4]\n",
    "    Expected Output:\n",
    "        20.0% suresh\n",
    "        30.0% boss\n",
    "        50.0% siva\n",
    "        40.0% bala '''\n",
    "       "
   ]
  },
  {
   "cell_type": "code",
   "execution_count": 33,
   "metadata": {},
   "outputs": [
    {
     "name": "stdout",
     "output_type": "stream",
     "text": [
      "20.0% suresh\n",
      "30.0% boss\n",
      "10.0% siva\n",
      "40.0% bala\n"
     ]
    }
   ],
   "source": [
    "name = [\"suresh\", \"boss\", \"siva\", \"bala\"]\n",
    "ratios = [0.2, 0.3, 0.1, 0.4]\n",
    "\n",
    "for i,j in enumerate(name):\n",
    "    percentage = ratios[i]*100\n",
    "    print(f\"{percentage}% {j}\")"
   ]
  },
  {
   "cell_type": "code",
   "execution_count": null,
   "metadata": {},
   "outputs": [],
   "source": []
  }
 ],
 "metadata": {
  "kernelspec": {
   "display_name": "Python 3 (ipykernel)",
   "language": "python",
   "name": "python3"
  },
  "language_info": {
   "codemirror_mode": {
    "name": "ipython",
    "version": 3
   },
   "file_extension": ".py",
   "mimetype": "text/x-python",
   "name": "python",
   "nbconvert_exporter": "python",
   "pygments_lexer": "ipython3",
   "version": "3.12.4"
  }
 },
 "nbformat": 4,
 "nbformat_minor": 4
}
