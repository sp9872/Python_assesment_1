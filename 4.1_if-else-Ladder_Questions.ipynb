{
 "cells": [
  {
   "cell_type": "raw",
   "metadata": {},
   "source": [
    "Read Five marks tamil,english,maths,science and social and if all marks are greater than 35 , print pass else print fail"
   ]
  },
  {
   "cell_type": "code",
   "execution_count": 4,
   "metadata": {},
   "outputs": [
    {
     "name": "stdin",
     "output_type": "stream",
     "text": [
      "Enter the Marks tamil: 36\n",
      "Enter the english Marks: 36\n",
      "Enter the maths Marks: 36\n",
      "Enter the science Marks: 36\n",
      "Enter the social Marks: 36\n"
     ]
    },
    {
     "name": "stdout",
     "output_type": "stream",
     "text": [
      "PASS\n"
     ]
    }
   ],
   "source": [
    "tamil=int(input('Enter the Marks tamil:'))\n",
    "english=int(input('Enter the english Marks:'))\n",
    "maths=int(input('Enter the maths Marks:'))\n",
    "science=int(input('Enter the science Marks:'))\n",
    "social=int(input('Enter the social Marks:'))\n",
    "\n",
    "\n",
    "if tamil>35 and english>35 and maths>35 and science>35 and social>35:\n",
    "    print('PASS')\n",
    "\n",
    "else:\n",
    "    print('FAIL')"
   ]
  },
  {
   "cell_type": "code",
   "execution_count": null,
   "metadata": {},
   "outputs": [],
   "source": []
  }
 ],
 "metadata": {
  "kernelspec": {
   "display_name": "Python 3 (ipykernel)",
   "language": "python",
   "name": "python3"
  },
  "language_info": {
   "codemirror_mode": {
    "name": "ipython",
    "version": 3
   },
   "file_extension": ".py",
   "mimetype": "text/x-python",
   "name": "python",
   "nbconvert_exporter": "python",
   "pygments_lexer": "ipython3",
   "version": "3.12.7"
  }
 },
 "nbformat": 4,
 "nbformat_minor": 4
}
